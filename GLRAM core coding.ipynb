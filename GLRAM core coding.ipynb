{
 "cells": [
  {
   "cell_type": "code",
   "execution_count": 1,
   "id": "ba7b7155",
   "metadata": {},
   "outputs": [],
   "source": [
    "import numpy as np"
   ]
  },
  {
   "cell_type": "code",
   "execution_count": 2,
   "id": "557dc67b",
   "metadata": {},
   "outputs": [],
   "source": [
    "#GLRAM core code\n",
    "def update_L(A_list, R, k):\n",
    "    \"\"\"Update L given R.\"\"\"\n",
    "    ML = np.sum([Ai @ R @ R.T @ Ai.T for Ai in A_list], axis=0)\n",
    "    eigenvalues, eigenvectors = np.linalg.eig(ML)\n",
    "    # 取最大的k个特征值对应的特征向量\n",
    "    idx = np.argsort(eigenvalues)[-k:][::-1]\n",
    "    return eigenvectors[:, idx]\n",
    "\n",
    "def update_R(A_list, L, k):\n",
    "    \"\"\"Update R given L.\"\"\"\n",
    "    MR = np.sum([Ai.T @ L @ L.T @ Ai for Ai in A_list], axis=0)\n",
    "    eigenvalues, eigenvectors = np.linalg.eig(MR)\n",
    "    # 取最大的k个特征值对应的特征向量\n",
    "    idx = np.argsort(eigenvalues)[-k:][::-1]\n",
    "    return eigenvectors[:, idx]\n",
    "\n",
    "def als_algorithm(A_list, init_L, init_R, k1, k2, iterations=100):\n",
    "    \"\"\"\n",
    "    Alternating Least Squares algorithm for optimizing L and R.\n",
    "    \n",
    "    Parameters:\n",
    "    A_list (list of np.ndarray): 数据矩阵列表。\n",
    "    init_L, init_R (np.ndarray): L和R的初始估计，形状分别为(l, k1)和(k2, c)。\n",
    "    k1, k2 (int): L和R的目标秩。\n",
    "    iterations (int): 迭代次数。\n",
    "    \n",
    "    Returns:\n",
    "    L, R (np.ndarray): 最终的L和R矩阵。\n",
    "    \"\"\"\n",
    "    L = init_L\n",
    "    R = init_R\n",
    "    \n",
    "    for _ in range(iterations):\n",
    "        # 更新L\n",
    "        L = update_L(A_list, R, k1)\n",
    "        # 更新R，注意保持R的列正交性可能需要额外步骤，这里简化处理\n",
    "        R = update_R(A_list, L, k2)\n",
    "        \n",
    "        # 在实际应用中，可能需要额外的正交化步骤来确保L和R的正交性\n",
    "        # 但这里为了简化，我们直接使用了特征向量，它们自然正交\n",
    "        \n",
    "    return L, R\n"
   ]
  },
  {
   "cell_type": "code",
   "execution_count": null,
   "id": "eaaf405f",
   "metadata": {},
   "outputs": [],
   "source": [
    "# the RMSRE of GlRAM \n",
    "def Frobenius_norm (matrix):\n",
    "    a = np.linalg.norm(matrix,'fro')\n",
    "    return a\n",
    "def cal_GLRAM_RMSRE (matrix_list,L,R):\n",
    "    sum=0\n",
    "    num = 0\n",
    "    for ai in matrix_list:\n",
    "        temp = np.dot(np.dot(L,L.T),np.dot(ai,np.dot(R,R.T)))\n",
    "        num += 1\n",
    "        error = ai - temp\n",
    "        sum += Frobenius_norm (error)**2\n",
    "    rmsre =   np.sqrt( sum/num)\n",
    "    return rmsre"
   ]
  }
 ],
 "metadata": {
  "kernelspec": {
   "display_name": "Python 3 (ipykernel)",
   "language": "python",
   "name": "python3"
  },
  "language_info": {
   "codemirror_mode": {
    "name": "ipython",
    "version": 3
   },
   "file_extension": ".py",
   "mimetype": "text/x-python",
   "name": "python",
   "nbconvert_exporter": "python",
   "pygments_lexer": "ipython3",
   "version": "3.11.4"
  }
 },
 "nbformat": 4,
 "nbformat_minor": 5
}
