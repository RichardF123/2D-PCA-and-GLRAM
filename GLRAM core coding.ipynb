{
 "cells": [
  {
   "cell_type": "code",
   "execution_count": 9,
   "id": "5da77619",
   "metadata": {},
   "outputs": [],
   "source": [
    "import numpy as np\n",
    "import math\n",
    "import matplotlib.pyplot as plt"
   ]
  },
  {
   "cell_type": "code",
   "execution_count": 2,
   "id": "fe078df1",
   "metadata": {},
   "outputs": [],
   "source": [
    "#GLRAM core code\n",
    "def update_L(A_list, R, k):\n",
    "    \"\"\"Update L given R.\"\"\"\n",
    "    ML = np.sum([Ai @ R @ R.T @ Ai.T for Ai in A_list], axis=0)\n",
    "    eigenvalues, eigenvectors = np.linalg.eig(ML)\n",
    "    # 取最大的k个特征值对应的特征向量\n",
    "    idx = np.argsort(eigenvalues)[-k:][::-1]\n",
    "    return eigenvectors[:, idx]\n",
    "\n",
    "def update_R(A_list, L, k):\n",
    "    \"\"\"Update R given L.\"\"\"\n",
    "    MR = np.sum([Ai.T @ L @ L.T @ Ai for Ai in A_list], axis=0)\n",
    "    eigenvalues, eigenvectors = np.linalg.eig(MR)\n",
    "    # 取最大的k个特征值对应的特征向量\n",
    "    idx = np.argsort(eigenvalues)[-k:][::-1]\n",
    "    return eigenvectors[:, idx]\n",
    "\n",
    "def als_algorithm(A_list, init_L, init_R, k1, k2, iterations=100):\n",
    "    \"\"\"\n",
    "    Alternating Least Squares algorithm for optimizing L and R.\n",
    "    \n",
    "    Parameters:\n",
    "    A_list (list of np.ndarray): 数据矩阵列表。\n",
    "    init_L, init_R (np.ndarray): L和R的初始估计，形状分别为(l, k1)和(k2, c)。\n",
    "    k1, k2 (int): L和R的目标秩。\n",
    "    iterations (int): 迭代次数。\n",
    "    \n",
    "    Returns:\n",
    "    L, R (np.ndarray): 最终的L和R矩阵。\n",
    "    \"\"\"\n",
    "    L = init_L\n",
    "    R = init_R\n",
    "    \n",
    "    for _ in range(iterations):\n",
    "        # 更新L\n",
    "        L = update_L(A_list, R, k1)\n",
    "        # 更新R，注意保持R的列正交性可能需要额外步骤，这里简化处理\n",
    "        R = update_R(A_list, L, k2)\n",
    "        \n",
    "        # 在实际应用中，可能需要额外的正交化步骤来确保L和R的正交性\n",
    "        # 但这里为了简化，我们直接使用了特征向量，它们自然正交\n",
    "        \n",
    "    return L, R\n"
   ]
  },
  {
   "cell_type": "code",
   "execution_count": 7,
   "id": "65e06f37",
   "metadata": {},
   "outputs": [],
   "source": [
    "def init_matrix(row,column):\n",
    "    m,_= np.linalg.qr(np.random.rand(row,column))\n",
    "    return m"
   ]
  },
  {
   "cell_type": "code",
   "execution_count": 15,
   "id": "4302de55",
   "metadata": {},
   "outputs": [],
   "source": [
    "# the RMSRE of GlRAM \n",
    "def Frobenius_norm (matrix):\n",
    "    a = np.linalg.norm(matrix,'fro')\n",
    "    return a\n",
    "def cal_GLRAM_RMSRE (matrix_list,L,R):\n",
    "    sum=0\n",
    "    num = 0\n",
    "    for ai in matrix_list:\n",
    "        temp = np.dot(np.dot(L,L.T),np.dot(ai,np.dot(R,R.T)))\n",
    "        num += 1\n",
    "        error = ai - temp\n",
    "        sum += Frobenius_norm (error)**2\n",
    "    rmsre =   np.sqrt( sum/num)\n",
    "    return rmsre"
   ]
  },
  {
   "cell_type": "code",
   "execution_count": null,
   "id": "9de0af49",
   "metadata": {},
   "outputs": [],
   "source": [
    "#导入orl数据集\n",
    "import cv2\n",
    "import os\n",
    "import numpy as np\n",
    "\n",
    "# ORL数据集的路径，请替换为实际路径\n",
    "orl_path = 'D:\\download\\ORL'\n",
    "\n",
    "# 存储矩阵的文件夹路径\n",
    "output_folder = 'D:\\download\\ORL_M'\n",
    "\n",
    "# 确保输出文件夹存在\n",
    "if not os.path.exists(output_folder):\n",
    "    os.makedirs(output_folder)\n",
    "\n",
    "# ORL数据集的结构通常是按人分文件夹，每个文件夹内有10张图片\n",
    "for person_folder in os.listdir(orl_path):\n",
    "    person_path = os.path.join(orl_path, person_folder)\n",
    "    if os.path.isdir(person_path):\n",
    "        for image_file in os.listdir(person_path):\n",
    "            if image_file.endswith(\".pgm\"):  # 确保是PGM文件\n",
    "                image_path = os.path.join(person_path, image_file)\n",
    "                # 读取PGM图片\n",
    "                img = cv2.imread(image_path, cv2.IMREAD_GRAYSCALE)\n",
    "                \n",
    "                # 确保图片正确读取\n",
    "                if img is not None:\n",
    "                    # 将矩阵保存为文本文件，这里以numpy数组的形式保存为例\n",
    "                    # 文件名可以包含图片信息，例如人编号和图片编号\n",
    "                    matrix_file_path = os.path.join(output_folder, f\"{person_folder}_{image_file.split('.')[0]}.npy\")\n",
    "                    np.save(matrix_file_path, img)  # 使用numpy保存为.npy文件\n",
    "                    print(f\"Image {image_file} saved as matrix.\")\n",
    "                else:\n",
    "                    print(f\"Failed to read {image_file}.\")"
   ]
  },
  {
   "cell_type": "code",
   "execution_count": 5,
   "id": "61c8d899",
   "metadata": {},
   "outputs": [],
   "source": [
    "def add_matrix_list(path):\n",
    "    Matrix_list = []\n",
    "    for j in range(1,41):\n",
    "        for i in range(1,11):\n",
    "            np_path = f\"{path}\\s{j}_{i}.npy\"\n",
    "            matrix = np.load(np_path)\n",
    "            Matrix_list.append(matrix)\n",
    "            print(f\"矩阵{i}添加完成\")\n",
    "    print('添加完成')\n",
    "    return Matrix_list\n"
   ]
  },
  {
   "cell_type": "code",
   "execution_count": null,
   "id": "47666f10",
   "metadata": {},
   "outputs": [],
   "source": [
    "matrix1=add_matrix_list(path = 'D:\\download\\GLRAM 复现材料\\ORL_M')"
   ]
  },
  {
   "cell_type": "code",
   "execution_count": 16,
   "id": "0a0e942a",
   "metadata": {},
   "outputs": [],
   "source": [
    "result = []\n",
    "for i in range(2,22,2):\n",
    "    L0 = init_matrix(112,i)\n",
    "    R0 = init_matrix(92,i)\n",
    "    L,R=als_algorithm(matrix1, L0, R0,i ,i, iterations=120)\n",
    "    rmsre = cal_GLRAM_RMSRE(matrix1,L,R)\n",
    "    result.append(rmsre)"
   ]
  },
  {
   "cell_type": "code",
   "execution_count": 17,
   "id": "15779711",
   "metadata": {},
   "outputs": [],
   "source": [
    "x  = np.arange(2.,22.,2)"
   ]
  },
  {
   "cell_type": "code",
   "execution_count": null,
   "id": "682d0068",
   "metadata": {},
   "outputs": [],
   "source": [
    "plt.plot(x,result)\n",
    "plt.show"
   ]
  },
  {
   "cell_type": "code",
   "execution_count": null,
   "id": "d77c3dbf",
   "metadata": {},
   "outputs": [],
   "source": []
  }
 ],
 "metadata": {
  "kernelspec": {
   "display_name": "Python 3 (ipykernel)",
   "language": "python",
   "name": "python3"
  },
  "language_info": {
   "codemirror_mode": {
    "name": "ipython",
    "version": 3
   },
   "file_extension": ".py",
   "mimetype": "text/x-python",
   "name": "python",
   "nbconvert_exporter": "python",
   "pygments_lexer": "ipython3",
   "version": "3.11.4"
  }
 },
 "nbformat": 4,
 "nbformat_minor": 5
}
