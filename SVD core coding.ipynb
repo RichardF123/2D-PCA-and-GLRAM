{
 "cells": [
  {
   "cell_type": "code",
   "execution_count": 1,
   "id": "8d61edb2",
   "metadata": {},
   "outputs": [],
   "source": [
    "def svd_1(A):\n",
    "    from scipy.linalg import svd\n",
    "    U,s,Vh= svd(A,full_matrices=False)\n",
    "    return U,s,Vh"
   ]
  },
  {
   "cell_type": "code",
   "execution_count": 2,
   "id": "830fdb7a",
   "metadata": {},
   "outputs": [],
   "source": [
    "def restruct(U,s,Vh,k):\n",
    "    s_truncated = np.diag(s[:k])\n",
    "    approx = np.dot(U[:,:k],np.dot(s_truncated,Vh[:k,:]))\n",
    "    return approx"
   ]
  },
  {
   "cell_type": "code",
   "execution_count": 4,
   "id": "36b26b09",
   "metadata": {},
   "outputs": [],
   "source": [
    "def matrices_svd(matrix,d):\n",
    "    matrix1 = []\n",
    "    for ai in matrix:\n",
    "        u,s,vh = svd_1(ai)\n",
    "        A = restruct(u,s,vh,d)\n",
    "        matrix1.append(A)\n",
    "    return matrix1"
   ]
  },
  {
   "cell_type": "code",
   "execution_count": null,
   "id": "3f64e445",
   "metadata": {},
   "outputs": [],
   "source": [
    "def calculate_SVD_RMSRE(matrix_list, matrices2):\n",
    "    \"\"\"计算均方根相对误差(RMSRE)\"\"\"\n",
    "    total_squared_error = 0\n",
    "    num_matrices = 0\n",
    "    list2 = np.array(matrix_list) - np.array(matrices2)\n",
    "    for ai in list2:\n",
    "        num_matrices += 1\n",
    "        error_matrix = ai\n",
    "        total_squared_error += calculate_Frobenius_norm(error_matrix)**2  # 计算平方误差的Frobenius范数\n",
    "    \n",
    "    # 计算RMSRE，分母应该是样本数量\n",
    "    rmsre = np.sqrt(total_squared_error / num_matrices)\n",
    "    return rmsre"
   ]
  }
 ],
 "metadata": {
  "kernelspec": {
   "display_name": "Python 3 (ipykernel)",
   "language": "python",
   "name": "python3"
  },
  "language_info": {
   "codemirror_mode": {
    "name": "ipython",
    "version": 3
   },
   "file_extension": ".py",
   "mimetype": "text/x-python",
   "name": "python",
   "nbconvert_exporter": "python",
   "pygments_lexer": "ipython3",
   "version": "3.11.4"
  }
 },
 "nbformat": 4,
 "nbformat_minor": 5
}
