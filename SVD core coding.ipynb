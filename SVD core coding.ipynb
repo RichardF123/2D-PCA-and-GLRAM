{
 "cells": [
  {
   "cell_type": "code",
   "execution_count": 15,
   "id": "22f63053",
   "metadata": {},
   "outputs": [],
   "source": [
    "import numpy as np\n",
    "import matplotlib.pyplot as plt"
   ]
  },
  {
   "cell_type": "code",
   "execution_count": 1,
   "id": "b7bef75f",
   "metadata": {},
   "outputs": [],
   "source": [
    "def svd_1(A):\n",
    "    from scipy.linalg import svd\n",
    "    U,s,Vh= svd(A,full_matrices=False)\n",
    "    return U,s,Vh"
   ]
  },
  {
   "cell_type": "code",
   "execution_count": 2,
   "id": "a6c83277",
   "metadata": {},
   "outputs": [],
   "source": [
    "def restruct(U,s,Vh,k):\n",
    "    s_truncated = np.diag(s[:k])\n",
    "    approx = np.dot(U[:,:k],np.dot(s_truncated,Vh[:k,:]))\n",
    "    return approx"
   ]
  },
  {
   "cell_type": "code",
   "execution_count": 4,
   "id": "8ac0411a",
   "metadata": {},
   "outputs": [],
   "source": [
    "def matrices_svd(matrix,d):\n",
    "    matrix1 = []\n",
    "    for ai in matrix:\n",
    "        u,s,vh = svd_1(ai)\n",
    "        A = restruct(u,s,vh,d)\n",
    "        matrix1.append(A)\n",
    "    return matrix1"
   ]
  },
  {
   "cell_type": "code",
   "execution_count": 11,
   "id": "f2ad3e73",
   "metadata": {},
   "outputs": [],
   "source": [
    "def Frobenius_norm (matrix):\n",
    "    a = np.linalg.norm(matrix,'fro')\n",
    "    return a\n",
    "def calculate_SVD_RMSRE(matrix_list, matrices2):\n",
    "    \"\"\"计算均方根相对误差(RMSRE)\"\"\"\n",
    "    total_squared_error = 0\n",
    "    num_matrices = 0\n",
    "    list2 = np.array(matrix_list) - np.array(matrices2)\n",
    "    for ai in list2:\n",
    "        num_matrices += 1\n",
    "        error_matrix = ai\n",
    "        total_squared_error += Frobenius_norm(error_matrix)**2  # 计算平方误差的Frobenius范数\n",
    "    \n",
    "    # 计算RMSRE，分母应该是样本数量\n",
    "    rmsre = np.sqrt(total_squared_error / num_matrices)\n",
    "    return rmsre"
   ]
  },
  {
   "cell_type": "code",
   "execution_count": null,
   "id": "96891f82",
   "metadata": {},
   "outputs": [],
   "source": [
    "#导入orl数据集\n",
    "import cv2\n",
    "import os\n",
    "import numpy as np\n",
    "\n",
    "# ORL数据集的路径，请替换为实际路径\n",
    "orl_path = 'D:\\download\\ORL'\n",
    "\n",
    "# 存储矩阵的文件夹路径\n",
    "output_folder = 'D:\\download\\ORL_M'\n",
    "\n",
    "# 确保输出文件夹存在\n",
    "if not os.path.exists(output_folder):\n",
    "    os.makedirs(output_folder)\n",
    "\n",
    "# ORL数据集的结构通常是按人分文件夹，每个文件夹内有10张图片\n",
    "for person_folder in os.listdir(orl_path):\n",
    "    person_path = os.path.join(orl_path, person_folder)\n",
    "    if os.path.isdir(person_path):\n",
    "        for image_file in os.listdir(person_path):\n",
    "            if image_file.endswith(\".pgm\"):  # 确保是PGM文件\n",
    "                image_path = os.path.join(person_path, image_file)\n",
    "                # 读取PGM图片\n",
    "                img = cv2.imread(image_path, cv2.IMREAD_GRAYSCALE)\n",
    "                \n",
    "                # 确保图片正确读取\n",
    "                if img is not None:\n",
    "                    # 将矩阵保存为文本文件，这里以numpy数组的形式保存为例\n",
    "                    # 文件名可以包含图片信息，例如人编号和图片编号\n",
    "                    matrix_file_path = os.path.join(output_folder, f\"{person_folder}_{image_file.split('.')[0]}.npy\")\n",
    "                    np.save(matrix_file_path, img)  # 使用numpy保存为.npy文件\n",
    "                    print(f\"Image {image_file} saved as matrix.\")\n",
    "                else:\n",
    "                    print(f\"Failed to read {image_file}.\")"
   ]
  },
  {
   "cell_type": "code",
   "execution_count": 5,
   "id": "68ce3c43",
   "metadata": {},
   "outputs": [],
   "source": [
    "def add_matrix_list(path):\n",
    "    Matrix_list = []\n",
    "    for j in range(1,41):\n",
    "        for i in range(1,11):\n",
    "            np_path = f\"{path}\\s{j}_{i}.npy\"\n",
    "            matrix = np.load(np_path)\n",
    "            Matrix_list.append(matrix)\n",
    "            print(f\"矩阵{i}添加完成\")\n",
    "    print('添加完成')\n",
    "    return Matrix_list\n"
   ]
  },
  {
   "cell_type": "code",
   "execution_count": null,
   "id": "d3bb62c9",
   "metadata": {},
   "outputs": [],
   "source": [
    "matrix1=add_matrix_list(path = 'D:\\download\\GLRAM 复现材料\\ORL_M')"
   ]
  },
  {
   "cell_type": "code",
   "execution_count": 12,
   "id": "02cdb42a",
   "metadata": {},
   "outputs": [],
   "source": [
    "result = []\n",
    "for i in range(2,22,2):\n",
    "    list = matrices_svd(matrix1,i)\n",
    "    rmsre = calculate_SVD_RMSRE(matrix1, list)\n",
    "    result.append(rmsre)"
   ]
  },
  {
   "cell_type": "code",
   "execution_count": 13,
   "id": "072d9620",
   "metadata": {},
   "outputs": [],
   "source": [
    "x  = np.arange(2.,22.,2)"
   ]
  },
  {
   "cell_type": "code",
   "execution_count": null,
   "id": "672c6d43",
   "metadata": {},
   "outputs": [],
   "source": [
    "plt.plot(x,result)\n",
    "plt.show"
   ]
  },
  {
   "cell_type": "code",
   "execution_count": null,
   "id": "a67ffe80",
   "metadata": {},
   "outputs": [],
   "source": []
  }
 ],
 "metadata": {
  "kernelspec": {
   "display_name": "Python 3 (ipykernel)",
   "language": "python",
   "name": "python3"
  },
  "language_info": {
   "codemirror_mode": {
    "name": "ipython",
    "version": 3
   },
   "file_extension": ".py",
   "mimetype": "text/x-python",
   "name": "python",
   "nbconvert_exporter": "python",
   "pygments_lexer": "ipython3",
   "version": "3.11.4"
  }
 },
 "nbformat": 4,
 "nbformat_minor": 5
}
