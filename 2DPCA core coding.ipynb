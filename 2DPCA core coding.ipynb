{
 "cells": [
  {
   "cell_type": "code",
   "execution_count": 3,
   "id": "d10df9c9",
   "metadata": {},
   "outputs": [],
   "source": [
    "import numpy as np\n",
    "from PIL import Image\n",
    "\n",
    "def PCA2D(samples, row_top):\n",
    "    '''samples are a list of 2D matrices (images)'''\n",
    "    # 确保所有图片尺寸相同\n",
    "    assert all(sample.shape == samples[0].shape for sample in samples), \"All images must have the same shape.\"\n",
    "    \n",
    "    size = samples[0].shape\n",
    "    mean = np.zeros(size)\n",
    "    \n",
    "    # 计算所有图片的平均值\n",
    "    for s in samples:\n",
    "        mean += s\n",
    "    mean /= float(len(samples))\n",
    "    \n",
    "    # 计算协方差矩阵\n",
    "    cov_row = np.zeros((size[1], size[1]))\n",
    "    for s in samples:\n",
    "        diff = s - mean\n",
    "        cov_row += np.dot(diff.T, diff)\n",
    "    cov_row /= (float(len(samples)-1))\n",
    "    \n",
    "    # 计算协方差矩阵的特征值和特征向量\n",
    "    row_eval, row_evec = np.linalg.eig(cov_row)\n",
    "    \n",
    "    # 特征值从大到小排序\n",
    "    sorted_index = np.argsort(row_eval)\n",
    "    sorted_index_top = sorted_index[-row_top:] \n",
    "    # 保留前row_top个特征向量\n",
    "    X = row_evec[:, sorted_index_top]\n",
    "    \n",
    "    return X"
   ]
  },
  {
   "cell_type": "code",
   "execution_count": 2,
   "id": "8c88f7b3",
   "metadata": {},
   "outputs": [],
   "source": [
    "def restruct(matrix,X):\n",
    "    b = []\n",
    "    for ai in matrix1:\n",
    "        temp = np.dot(np.dot(ai,m),m.T)\n",
    "        b.append(temp)\n",
    "    return b"
   ]
  },
  {
   "cell_type": "code",
   "execution_count": 4,
   "id": "d1397636",
   "metadata": {},
   "outputs": [],
   "source": [
    "# the RMSRE of 2DPCA\n",
    "def calculate_RMSRE(original_matrices, reconstructed_matrices):\n",
    "    \"\"\"计算RMSRE，这里简化处理，直接计算重构误差的均方根\"\"\"\n",
    "    total_error = 0\n",
    "    for original, reconstructed in zip(original_matrices, reconstructed_matrices):\n",
    "        error_matrix = original - reconstructed\n",
    "        total_error += np.linalg.norm(error_matrix, 'fro')**2  # Frobenius范数的平方\n",
    "    rmsre = np.sqrt(total_error / (len(original_matrices)))  # 注意分母是矩阵的数量\n",
    "    return rmsre"
   ]
  },
  {
   "cell_type": "code",
   "execution_count": null,
   "id": "ee7b2b56",
   "metadata": {},
   "outputs": [],
   "source": [
    "#导入orl数据集\n",
    "import cv2\n",
    "import os\n",
    "import numpy as np\n",
    "\n",
    "# ORL数据集的路径，请替换为实际路径\n",
    "orl_path = 'D:\\download\\GLRAM复现材料\\ORL'\n",
    "\n",
    "# 存储矩阵的文件夹路径\n",
    "output_folder = 'D:\\download\\GLRAM复现材料\\ORL_M'\n",
    "\n",
    "# 确保输出文件夹存在\n",
    "if not os.path.exists(output_folder):\n",
    "    os.makedirs(output_folder)\n",
    "\n",
    "# ORL数据集的结构通常是按人分文件夹，每个文件夹内有10张图片\n",
    "for person_folder in os.listdir(orl_path):\n",
    "    person_path = os.path.join(orl_path, person_folder)\n",
    "    if os.path.isdir(person_path):\n",
    "        for image_file in os.listdir(person_path):\n",
    "            if image_file.endswith(\".pgm\"):  # 确保是PGM文件\n",
    "                image_path = os.path.join(person_path, image_file)\n",
    "                # 读取PGM图片\n",
    "                img = cv2.imread(image_path, cv2.IMREAD_GRAYSCALE)\n",
    "                \n",
    "                # 确保图片正确读取\n",
    "                if img is not None:\n",
    "                    # 将矩阵保存为文本文件，这里以numpy数组的形式保存为例\n",
    "                    # 文件名可以包含图片信息，例如人编号和图片编号\n",
    "                    matrix_file_path = os.path.join(output_folder, f\"{person_folder}_{image_file.split('.')[0]}.npy\")\n",
    "                    np.save(matrix_file_path, img)  # 使用numpy保存为.npy文件\n",
    "                    print(f\"Image {image_file} saved as matrix.\")\n",
    "                else:\n",
    "                    print(f\"Failed to read {image_file}.\")"
   ]
  },
  {
   "cell_type": "code",
   "execution_count": 5,
   "id": "7c00b7f2",
   "metadata": {},
   "outputs": [],
   "source": [
    "def add_matrix_list(path):\n",
    "    Matrix_list = []\n",
    "    for j in range(1,41):\n",
    "        for i in range(1,11):\n",
    "            np_path = f\"{path}\\s{j}_{i}.npy\"\n",
    "            matrix = np.load(np_path)\n",
    "            Matrix_list.append(matrix)\n",
    "            print(f\"矩阵{i}添加完成\")\n",
    "    print('添加完成')\n",
    "    return Matrix_list\n"
   ]
  },
  {
   "cell_type": "code",
   "execution_count": null,
   "id": "e7d352c3",
   "metadata": {},
   "outputs": [],
   "source": [
    "matrix1=add_matrix_list(path = 'D:\\download\\GLRAM 复现材料\\ORL_M')"
   ]
  },
  {
   "cell_type": "code",
   "execution_count": 7,
   "id": "a9fb1173",
   "metadata": {},
   "outputs": [],
   "source": [
    "result = []\n",
    "for i in range (2,22,2):\n",
    "    m = PCA2D(matrix1, i)\n",
    "    list = restruct(matrix1,m)\n",
    "    rmsre = calculate_RMSRE(matrix1, list)\n",
    "    result.append(rmsre)"
   ]
  },
  {
   "cell_type": "code",
   "execution_count": 8,
   "id": "dd1d0534",
   "metadata": {},
   "outputs": [],
   "source": [
    "x  = np.arange(2.,22.,2)"
   ]
  },
  {
   "cell_type": "code",
   "execution_count": null,
   "id": "43be026f",
   "metadata": {},
   "outputs": [],
   "source": [
    "import matplotlib.pyplot as plt\n",
    "plt.plot(x,result)\n",
    "plt.show"
   ]
  },
  {
   "cell_type": "code",
   "execution_count": 10,
   "id": "fe8c0819",
   "metadata": {},
   "outputs": [],
   "source": [
    "m1 = PCA2D(matrix1, 10)\n",
    "path = 'D:\\download\\GLRAM 复现材料\\ORL_M\\s1_1.npy'\n",
    "A = np.load(path)\n",
    "Y = np.dot(A,m1)"
   ]
  },
  {
   "cell_type": "code",
   "execution_count": null,
   "id": "061c48c1",
   "metadata": {},
   "outputs": [],
   "source": [
    "import cv2\n",
    "v = [x[1] for x in m1]\n",
    "V = np.mat(v)\n",
    "res = np.dot(np.dot(matrix1[0], V.T), m1.T[[2]])\n",
    "res = res*255\n",
    "res = 255 - res\n",
    "row_im = cv2.imwrite(\"A0.png\",res)\n",
    "plt.figure(figsize=(10, 10))\n",
    "plt.imshow(res, cmap='gray')  # 假设是灰度图像\n",
    "plt.title('k=1')\n",
    "plt.axis('off')  \n",
    "plt.show()"
   ]
  },
  {
   "cell_type": "code",
   "execution_count": null,
   "id": "4f46ef40",
   "metadata": {},
   "outputs": [],
   "source": []
  }
 ],
 "metadata": {
  "kernelspec": {
   "display_name": "Python 3 (ipykernel)",
   "language": "python",
   "name": "python3"
  },
  "language_info": {
   "codemirror_mode": {
    "name": "ipython",
    "version": 3
   },
   "file_extension": ".py",
   "mimetype": "text/x-python",
   "name": "python",
   "nbconvert_exporter": "python",
   "pygments_lexer": "ipython3",
   "version": "3.11.4"
  }
 },
 "nbformat": 4,
 "nbformat_minor": 5
}
